{
 "cells": [
  {
   "cell_type": "code",
   "execution_count": 3,
   "metadata": {},
   "outputs": [],
   "source": [
    "using JLD2\n",
    "using DataFrames\n",
    "using CSV"
   ]
  },
  {
   "cell_type": "code",
   "execution_count": 4,
   "metadata": {},
   "outputs": [
    {
     "data": {
      "text/plain": [
       "1-element Array{Symbol,1}:\n",
       " :data_save"
      ]
     },
     "execution_count": 4,
     "metadata": {},
     "output_type": "execute_result"
    }
   ],
   "source": [
    "@load \"mcmc-summary-data-dg.jld\" data_save"
   ]
  },
  {
   "cell_type": "code",
   "execution_count": 5,
   "metadata": {},
   "outputs": [
    {
     "data": {
      "text/plain": [
       "(:ev_index, :ev_charge, :mode, :μx_trsz_halo, :μy_trsz_halo, :μx_trsz_core, :μy_trsz_core, :μx_angspr_halo, :μy_angspr_halo, :μx_angspr_core, :μy_angspr_core, :μ_waist_halo, :μ_waist_core, :μx_emitt_halo, :μy_emitt_halo, :μx_emitt_core, :μy_emitt_core, :μmixt_pow, :μx_cam4_res, :μy_cam4_res, :μx_align, :μy_align, :σx_trsz_halo, :σy_trsz_halo, :σx_trsz_core, :σy_trsz_core, :σx_angspr_halo, :σy_angspr_halo, :σx_angspr_core, :σy_angspr_core, :σ_waist_halo, :σ_waist_core, :σx_emitt_halo, :σy_emitt_halo, :σx_emitt_core, :σy_emitt_core, :σx_align, :σy_align, :σmixt_pow, :σx_cam4_res, :σy_cam4_res)"
      ]
     },
     "execution_count": 5,
     "metadata": {},
     "output_type": "execute_result"
    }
   ],
   "source": [
    "keys_old = keys(data_save[1])"
   ]
  },
  {
   "cell_type": "code",
   "execution_count": 7,
   "metadata": {},
   "outputs": [],
   "source": [
    "keys_new = (:ev_index, :ev_charge, :mode, \n",
    "    :trsz_x_halo, :trsz_y_halo, \n",
    "    :trsz_x_core, :trsz_y_core, \n",
    "    :angspr_x_halo, :angspr_y_halo, \n",
    "    :angspr_x_core, :angspr_y_core, \n",
    "    :waist_halo, :waist_core, \n",
    "    :emitt_x_halo, :emitt_y_halo, \n",
    "    :emitt_x_core, :emitt_y_core, \n",
    "    :μmixt_pow, \n",
    "    :cam4_res_x, :cam4_res_y,\n",
    "    :align_x, :align_y, \n",
    "    :trsz_x_halo_std, :trsz_y_halo_std, \n",
    "    :trsz_x_core_std, :trsz_y_core_std, \n",
    "    :angspr_x_halo_std, :angspr_y_halo_std, \n",
    "    :angspr_x_core_std, :angspr_y_core_std, \n",
    "    :waist_halo_std, :waist_core_std, \n",
    "    :emitt_x_halo_std, :emitt_y_halo_std, \n",
    "    :emitt_x_core_std, :emitt_y_core_std, \n",
    "    :align_x_std, :align_y_std,\n",
    "    :mixt_pow_std, \n",
    "    :cam4_res_x_std, :cam4_res_y_std\n",
    ");\n",
    "\n",
    "keys_new_2 = (:ev_charge, \n",
    "    :trsz_x_halo, :trsz_y_halo, \n",
    "    :trsz_x_core, :trsz_y_core, \n",
    "    :angspr_x_halo, :angspr_y_halo, \n",
    "    :angspr_x_core, :angspr_y_core, \n",
    "    :waist_halo, :waist_core, \n",
    "    :emitt_x_halo, :emitt_y_halo, \n",
    "    :emitt_x_core, :emitt_y_core, \n",
    "    :μmixt_pow, \n",
    "    :cam4_res_x, :cam4_res_y,\n",
    "    :align_x, :align_y, \n",
    "    :trsz_x_halo_std, :trsz_y_halo_std, \n",
    "    :trsz_x_core_std, :trsz_y_core_std, \n",
    "    :angspr_x_halo_std, :angspr_y_halo_std, \n",
    "    :angspr_x_core_std, :angspr_y_core_std, \n",
    "    :waist_halo_std, :waist_core_std, \n",
    "    :emitt_x_halo_std, :emitt_y_halo_std, \n",
    "    :emitt_x_core_std, :emitt_y_core_std, \n",
    "    :align_x_std, :align_y_std,\n",
    "    :mixt_pow_std, \n",
    "    :cam4_res_x_std, :cam4_res_y_std\n",
    ");"
   ]
  },
  {
   "cell_type": "code",
   "execution_count": 8,
   "metadata": {},
   "outputs": [],
   "source": [
    "data_all = (;zip(keys_new, [data_save[1]...])...);\n",
    "data_small_p = (;zip(keys_new_2, [data_save[2]...])...);\n",
    "data_large_p = (;zip(keys_new_2, [data_save[3]...])...);"
   ]
  },
  {
   "cell_type": "code",
   "execution_count": 9,
   "metadata": {},
   "outputs": [
    {
     "data": {
      "text/plain": [
       "\"data_large_p.csv\""
      ]
     },
     "execution_count": 9,
     "metadata": {},
     "output_type": "execute_result"
    }
   ],
   "source": [
    "# CSV.write(\"data_all.csv\", DataFrame(data_all))\n",
    "# CSV.write(\"data_small_p.csv\", DataFrame(data_small_p))\n",
    "# CSV.write(\"data_large_p.csv\", DataFrame(data_large_p))"
   ]
  },
  {
   "cell_type": "code",
   "execution_count": 10,
   "metadata": {},
   "outputs": [
    {
     "data": {
      "text/plain": [
       "(ev_charge = [25.97273535598801], trsz_x_halo = [0.08638750874840821], trsz_y_halo = [0.12940107804852882], trsz_x_core = [0.12732847740508957], trsz_y_core = [0.1406277633875077], angspr_x_halo = [5.988979565975158], angspr_y_halo = [5.601307957431759], angspr_x_core = [2.405516473871141], angspr_y_core = [2.2518531333064504], waist_halo = [3.144560817562138], waist_core = [2.740682791870824], emitt_x_halo = [2.1994958993368603], emitt_y_halo = [3.085609434047354], emitt_x_core = [1.306331326624568], emitt_y_core = [1.351735058680085], μmixt_pow = [0.6896618764811097], cam4_res_x = [4.734184804471114], cam4_res_y = [4.515046355948624], align_x = [[117.78591996634005, 115.7776711406246, 123.22414299165646, 153.3809871110768]], align_y = [[51.93421612250038, 38.98538260692291, 105.9275892220799, 121.1890165332607]], trsz_x_halo_std = [0.0021008678160939], trsz_y_halo_std = [0.001626512713412009], trsz_x_core_std = [0.0011768218232910028], trsz_y_core_std = [0.002053362723340025], angspr_x_halo_std = [0.037295315823634205], angspr_y_halo_std = [0.03491819034161961], angspr_x_core_std = [0.058363721817484386], angspr_y_core_std = [0.05484934361614489], waist_halo_std = [0.020452107379739164], waist_core_std = [0.029614188492331578], emitt_x_halo_std = [0.05042315310793058], emitt_y_halo_std = [0.03657832176401386], emitt_x_core_std = [0.03181392055991], emitt_y_core_std = [0.037357472103277216], align_x_std = [[0.59269048711502, 0.6055942775244874, 4.244605259234473, 2.426273506603905]], align_y_std = [[0.6064273007738017, 0.5054152064034183, 4.065993200960892, 2.291669487742828]], mixt_pow_std = [0.008213956194665698], cam4_res_x_std = [0.06821386601618452], cam4_res_y_std = [0.06939592637188233])"
      ]
     },
     "execution_count": 10,
     "metadata": {},
     "output_type": "execute_result"
    }
   ],
   "source": [
    "data_large_p"
   ]
  },
  {
   "cell_type": "code",
   "execution_count": null,
   "metadata": {},
   "outputs": [],
   "source": []
  },
  {
   "cell_type": "code",
   "execution_count": null,
   "metadata": {},
   "outputs": [],
   "source": []
  },
  {
   "cell_type": "code",
   "execution_count": null,
   "metadata": {},
   "outputs": [],
   "source": []
  },
  {
   "cell_type": "code",
   "execution_count": 11,
   "metadata": {},
   "outputs": [
    {
     "data": {
      "text/plain": [
       "1-element Array{Symbol,1}:\n",
       " :data_save"
      ]
     },
     "execution_count": 11,
     "metadata": {},
     "output_type": "execute_result"
    }
   ],
   "source": [
    "@load \"mcmc-summary-data-sg.jld\" data_save"
   ]
  },
  {
   "cell_type": "code",
   "execution_count": 12,
   "metadata": {},
   "outputs": [
    {
     "data": {
      "text/plain": [
       "(:ev_index, :ev_charge, :mode, :μx_trsz, :μy_trsz, :μx_angspr, :μy_angspr, :μ_waist, :μx_emitt, :μy_emitt, :μx_align, :μy_align, :μx_cam4_res, :μy_cam4_res, :σx_trsz, :σy_trsz, :σx_angspr, :σy_angspr, :σ_waist, :σx_emitt, :σy_emitt, :σx_align, :σy_align, :σx_cam4_res, :σy_cam4_res)"
      ]
     },
     "execution_count": 12,
     "metadata": {},
     "output_type": "execute_result"
    }
   ],
   "source": [
    "keys_old = keys(data_save[1])"
   ]
  },
  {
   "cell_type": "code",
   "execution_count": 14,
   "metadata": {},
   "outputs": [],
   "source": [
    "keys_new = (:ev_index, :ev_charge, :mode, \n",
    "    :trsz_x, :trsz_y, \n",
    "    :angspr_x, :angspr_y, \n",
    "    :waist, \n",
    "    :emitt_x, :emitt_y, \n",
    "    :align_x, :align_y, \n",
    "    :cam4_res_x, :cam4_res_y,\n",
    "    :trsz_x_std, :trsz_y_std, \n",
    "    :angspr_x_std, :angspr_y_std, \n",
    "    :waist_std,\n",
    "    :emitt_x_std, :emitt_y_std, \n",
    "    :align_x_std, :align_y_std,\n",
    "    :cam4_res_x_std, :cam4_res_y_std\n",
    ");\n",
    "\n",
    "keys_new_2 = (:ev_charge, \n",
    "    :trsz_x, :trsz_y, \n",
    "    :angspr_x, :angspr_y, \n",
    "    :waist, \n",
    "    :emitt_x, :emitt_y, \n",
    "    :align_x, :align_y, \n",
    "    :cam4_res_x, :cam4_res_y,\n",
    "    :trsz_x_std, :trsz_y_std, \n",
    "    :angspr_x_std, :angspr_y_std, \n",
    "    :waist_std,\n",
    "    :emitt_x_std, :emitt_y_std, \n",
    "    :align_x_std, :align_y_std,\n",
    "    :cam4_res_x_std, :cam4_res_y_std\n",
    ");"
   ]
  },
  {
   "cell_type": "code",
   "execution_count": 15,
   "metadata": {},
   "outputs": [],
   "source": [
    "data_all = (;zip(keys_new, [data_save[1]...])...);\n",
    "data_small_p = (;zip(keys_new_2, [data_save[2]...])...);\n",
    "data_large_p = (;zip(keys_new_2, [data_save[3]...])...);"
   ]
  },
  {
   "cell_type": "code",
   "execution_count": 16,
   "metadata": {},
   "outputs": [
    {
     "data": {
      "text/plain": [
       "\"data_large_p.csv\""
      ]
     },
     "execution_count": 16,
     "metadata": {},
     "output_type": "execute_result"
    }
   ],
   "source": [
    "CSV.write(\"data_all.csv\", DataFrame(data_all))\n",
    "CSV.write(\"data_small_p.csv\", DataFrame(data_small_p))\n",
    "CSV.write(\"data_large_p.csv\", DataFrame(data_large_p))"
   ]
  },
  {
   "cell_type": "code",
   "execution_count": 17,
   "metadata": {},
   "outputs": [
    {
     "data": {
      "text/plain": [
       "(ev_charge = [25.949464435278703], trsz_x = [0.10660754709294853], trsz_y = [0.13674466102051977], angspr_x = [4.726101866029336], angspr_y = [4.432278086680334], waist = [3.1987731488692273], emitt_x = [2.147060318099432], emitt_y = [2.5831804749663947], align_x = [[115.13175143071966, 110.59055941037809, 127.35090750780606, 153.16305995377485]], align_y = [[53.46048992402307, 39.80544932481404, 99.45740928589561, 126.28064071593467]], cam4_res_x = [5.1879665972652065], cam4_res_y = [4.898379854156926], trsz_x_std = [0.0012523683292434543], trsz_y_std = [0.0009475573539311114], angspr_x_std = [0.028752101002931935], angspr_y_std = [0.03047293298892896], waist_std = [0.02289565739982489], emitt_x_std = [0.022559122976947666], emitt_y_std = [0.018028869243355772], align_x_std = [[0.6496786801022707, 0.610997041136776, 3.6932614539849062, 3.3382337653996723]], align_y_std = [[0.6563631499678598, 0.4969882033664148, 3.6285255624521096, 3.1354291511830783]], cam4_res_x_std = [0.08463693613216496], cam4_res_y_std = [0.08875147334628272])"
      ]
     },
     "execution_count": 17,
     "metadata": {},
     "output_type": "execute_result"
    }
   ],
   "source": [
    "data_large_p"
   ]
  },
  {
   "cell_type": "code",
   "execution_count": null,
   "metadata": {},
   "outputs": [],
   "source": []
  }
 ],
 "metadata": {
  "kernelspec": {
   "display_name": "Julia 1.5.0",
   "language": "julia",
   "name": "julia-1.5"
  },
  "language_info": {
   "file_extension": ".jl",
   "mimetype": "application/julia",
   "name": "julia",
   "version": "1.5.0"
  }
 },
 "nbformat": 4,
 "nbformat_minor": 4
}
